{
 "cells": [
  {
   "cell_type": "code",
   "execution_count": null,
   "id": "28722649",
   "metadata": {
    "_kg_hide-output": true,
    "execution": {
     "iopub.execute_input": "2024-09-17T22:10:45.910986Z",
     "iopub.status.busy": "2024-09-17T22:10:45.910046Z",
     "iopub.status.idle": "2024-09-17T22:13:15.890585Z",
     "shell.execute_reply": "2024-09-17T22:13:15.889526Z"
    },
    "papermill": {
     "duration": 149.991893,
     "end_time": "2024-09-17T22:13:15.893245",
     "exception": false,
     "start_time": "2024-09-17T22:10:45.901352",
     "status": "completed"
    },
    "tags": []
   },
   "outputs": [],
   "source": [
    "!pip install deepface"
   ]
  },
  {
   "cell_type": "code",
   "execution_count": null,
   "id": "04ffc569",
   "metadata": {
    "execution": {
     "iopub.execute_input": "2024-09-17T22:13:15.906285Z",
     "iopub.status.busy": "2024-09-17T22:13:15.905656Z",
     "iopub.status.idle": "2024-09-17T22:13:30.042365Z",
     "shell.execute_reply": "2024-09-17T22:13:30.040999Z"
    },
    "papermill": {
     "duration": 14.145198,
     "end_time": "2024-09-17T22:13:30.044073",
     "exception": true,
     "start_time": "2024-09-17T22:13:15.898875",
     "status": "failed"
    },
    "tags": []
   },
   "outputs": [],
   "source": [
    "import warnings\n",
    "warnings.filterwarnings('ignore')\n",
    "import os\n",
    "import zipfile\n",
    "import matplotlib.pyplot as plt\n",
    "import seaborn as sns\n",
    "import cv2\n",
    "import numpy as np\n",
    "import pandas as pd\n",
    "import random\n",
    "import urllib.request\n",
    "from sklearn.model_selection import train_test_split\n",
    "from tensorflow.keras.preprocessing.image import ImageDataGenerator\n",
    "from tensorflow.keras.applications.inception_v3 import InceptionV3\n",
    "from tensorflow.keras.applications.inception_v3 import preprocess_input as inceptionv3_preprocess_input\n",
    "from tensorflow.keras.models import Model\n",
    "from tensorflow.keras.layers import Dense, Dropout, GlobalAveragePooling2D, Input\n",
    "from tensorflow.keras.optimizers import Adam\n",
    "from keras.utils import plot_model\n",
    "from tensorflow.keras.callbacks import ReduceLROnPlateau, EarlyStopping\n",
    "from deepface import DeepFace"
   ]
  },
  {
   "cell_type": "code",
   "execution_count": null,
   "id": "a739b72e",
   "metadata": {
    "execution": {
     "iopub.execute_input": "2023-11-23T20:12:38.85602Z",
     "iopub.status.busy": "2023-11-23T20:12:38.855468Z",
     "iopub.status.idle": "2023-11-23T20:12:38.861142Z",
     "shell.execute_reply": "2023-11-23T20:12:38.860203Z",
     "shell.execute_reply.started": "2023-11-23T20:12:38.855989Z"
    },
    "papermill": {
     "duration": null,
     "end_time": null,
     "exception": null,
     "start_time": null,
     "status": "pending"
    },
    "tags": []
   },
   "outputs": [],
   "source": [
    "sns.set(rc={'axes.facecolor': '#f0f2f2'}, style='darkgrid')"
   ]
  },
  {
   "cell_type": "code",
   "execution_count": null,
   "id": "f30602fc",
   "metadata": {
    "execution": {
     "iopub.execute_input": "2023-11-23T20:12:38.863897Z",
     "iopub.status.busy": "2023-11-23T20:12:38.863585Z",
     "iopub.status.idle": "2023-11-23T20:12:39.191175Z",
     "shell.execute_reply": "2023-11-23T20:12:39.190312Z",
     "shell.execute_reply.started": "2023-11-23T20:12:38.863872Z"
    },
    "papermill": {
     "duration": null,
     "end_time": null,
     "exception": null,
     "start_time": null,
     "status": "pending"
    },
    "scrolled": true,
    "tags": []
   },
   "outputs": [],
   "source": [
    "with_mask_path = '/kaggle/input/mask-detection/with_mask'\n",
    "without_mask_path = '/kaggle/input/mask-detection/without_mask'\n",
    "\n",
    "with_mask_images = os.listdir(with_mask_path)\n",
    "without_mask_images = os.listdir(without_mask_path)\n",
    "\n",
    "with_mask_count = len(with_mask_images)\n",
    "without_mask_count = len(without_mask_images)\n",
    "\n",
    "total_images = with_mask_count + without_mask_count\n",
    "with_mask_percentage = (with_mask_count / total_images) * 100\n",
    "without_mask_percentage = (without_mask_count / total_images) * 100\n",
    "\n",
    "labels = ['With Mask', 'Without Mask']\n",
    "counts = [with_mask_count, without_mask_count]\n",
    "percentages = [with_mask_percentage, without_mask_percentage]\n",
    "\n",
    "plt.figure(figsize=(15, 4))\n",
    "\n",
    "ax = sns.barplot(y=labels, x=counts, orient='h', color='#008281')\n",
    "\n",
    "ax.set_xticks(range(0, max(counts) + 500, 500))  \n",
    "\n",
    "for i, p in enumerate(ax.patches):\n",
    "    width = p.get_width()\n",
    "    ax.text(width + 5, p.get_y() + p.get_height()/2., \n",
    "            '{:1.2f}% ({})'.format(percentages[i], counts[i]),\n",
    "            va=\"center\", fontsize=15)\n",
    "    \n",
    "plt.xlabel('Number of Images', fontsize=14)\n",
    "\n",
    "plt.title(\"Number of images per class (Masked vs Unmasked)\", fontsize=18)\n",
    "plt.show()"
   ]
  },
  {
   "cell_type": "code",
   "execution_count": null,
   "id": "8d7fdad4",
   "metadata": {
    "execution": {
     "iopub.execute_input": "2023-11-23T20:12:39.192689Z",
     "iopub.status.busy": "2023-11-23T20:12:39.192404Z",
     "iopub.status.idle": "2023-11-23T20:12:58.571781Z",
     "shell.execute_reply": "2023-11-23T20:12:58.570864Z",
     "shell.execute_reply.started": "2023-11-23T20:12:39.192663Z"
    },
    "papermill": {
     "duration": null,
     "end_time": null,
     "exception": null,
     "start_time": null,
     "status": "pending"
    },
    "tags": []
   },
   "outputs": [],
   "source": [
    "heights = []\n",
    "widths = []\n",
    "\n",
    "unique_dims = set()\n",
    "unique_channels = set()\n",
    "\n",
    "def process_images(image_path):\n",
    "    filenames = os.listdir(image_path)\n",
    "    for filename in filenames:\n",
    "        img = cv2.imread(os.path.join(image_path, filename))\n",
    "        if img is not None:\n",
    "            unique_dims.add((img.shape[0], img.shape[1]))\n",
    "            \n",
    "            unique_channels.add(img.shape[2])\n",
    "            \n",
    "            heights.append(img.shape[0])\n",
    "            widths.append(img.shape[1])\n",
    "\n",
    "process_images(with_mask_path)\n",
    "process_images(without_mask_path)\n",
    "\n",
    "if len(unique_dims) == 1:\n",
    "    print(f\"All images have the same dimensions: {list(unique_dims)[0]}\")\n",
    "else:\n",
    "    print(f\"There are {len(unique_dims)} different image dimensions in the dataset.\")\n",
    "    print(f\"Min height: {min(heights)}, Max height: {max(heights)}, Mean height: {np.mean(heights):.2f}\")\n",
    "    print(f\"Min width: {min(widths)}, Max width: {max(widths)}, Mean width: {np.mean(widths):.2f}\")\n",
    "\n",
    "if len(unique_channels) == 1:\n",
    "    channel = list(unique_channels)[0]\n",
    "    if channel == 3:\n",
    "        print(\"All images are color images.\")\n",
    "    else:\n",
    "        print(\"All images have the same number of channels, but they are not color images.\")\n",
    "else:\n",
    "    print(\"Images have different numbers of channels.\")"
   ]
  },
  {
   "cell_type": "code",
   "execution_count": null,
   "id": "afe8a75c",
   "metadata": {
    "execution": {
     "iopub.execute_input": "2023-11-23T20:12:58.573318Z",
     "iopub.status.busy": "2023-11-23T20:12:58.573027Z",
     "iopub.status.idle": "2023-11-23T20:13:00.1324Z",
     "shell.execute_reply": "2023-11-23T20:13:00.131487Z",
     "shell.execute_reply.started": "2023-11-23T20:12:58.573293Z"
    },
    "papermill": {
     "duration": null,
     "end_time": null,
     "exception": null,
     "start_time": null,
     "status": "pending"
    },
    "tags": []
   },
   "outputs": [],
   "source": [
    "def plot_images(images, title, path):\n",
    "    plt.figure(figsize=(15, 3))\n",
    "    for i, img_name in enumerate(images):\n",
    "        plt.subplot(1, 6, i + 1)\n",
    "        img = cv2.imread(os.path.join(path, img_name))\n",
    "        # Resize the image to a fixed size (e.g., 224x224)\n",
    "        img = cv2.resize(img, (224, 224))\n",
    "        # Convert the BGR image (default in OpenCV) to RGB\n",
    "        img = cv2.cvtColor(img, cv2.COLOR_BGR2RGB)\n",
    "        plt.imshow(img)\n",
    "        plt.axis('off')\n",
    "    plt.suptitle(title, fontsize=20)\n",
    "    plt.show()\n",
    "\n",
    "random_with_mask_images = random.sample(with_mask_images, 6)\n",
    "random_without_mask_images = random.sample(without_mask_images, 6)\n",
    "\n",
    "plot_images(random_with_mask_images, \"Randomly Selected With-Mask Images\", with_mask_path)\n",
    "plot_images(random_without_mask_images, \"Randomly Selected Without-Mask Images\", without_mask_path)"
   ]
  },
  {
   "cell_type": "code",
   "execution_count": null,
   "id": "4e7c2d2f",
   "metadata": {
    "execution": {
     "iopub.execute_input": "2023-11-23T20:13:00.13417Z",
     "iopub.status.busy": "2023-11-23T20:13:00.133859Z",
     "iopub.status.idle": "2023-11-23T20:13:00.160029Z",
     "shell.execute_reply": "2023-11-23T20:13:00.15908Z",
     "shell.execute_reply.started": "2023-11-23T20:13:00.134142Z"
    },
    "papermill": {
     "duration": null,
     "end_time": null,
     "exception": null,
     "start_time": null,
     "status": "pending"
    },
    "tags": []
   },
   "outputs": [],
   "source": [
    "data = []\n",
    "\n",
    "data.extend([(os.path.join(with_mask_path, filename), \"with_mask\") for filename in os.listdir(with_mask_path)])\n",
    "\n",
    "data.extend([(os.path.join(without_mask_path, filename), \"without_mask\") for filename in os.listdir(without_mask_path)])\n",
    "\n",
    "df = pd.DataFrame(data, columns=['filepath', 'label'])\n",
    "\n",
    "df.head()"
   ]
  },
  {
   "cell_type": "code",
   "execution_count": null,
   "id": "dabe61ce",
   "metadata": {
    "execution": {
     "iopub.execute_input": "2023-11-23T20:13:00.161742Z",
     "iopub.status.busy": "2023-11-23T20:13:00.161366Z",
     "iopub.status.idle": "2023-11-23T20:13:00.167404Z",
     "shell.execute_reply": "2023-11-23T20:13:00.166474Z",
     "shell.execute_reply.started": "2023-11-23T20:13:00.161707Z"
    },
    "papermill": {
     "duration": null,
     "end_time": null,
     "exception": null,
     "start_time": null,
     "status": "pending"
    },
    "tags": []
   },
   "outputs": [],
   "source": [
    "print(\"Total number of images in the dataset:\", len(df))"
   ]
  },
  {
   "cell_type": "code",
   "execution_count": null,
   "id": "607231a3",
   "metadata": {
    "execution": {
     "iopub.execute_input": "2023-11-23T20:13:00.168774Z",
     "iopub.status.busy": "2023-11-23T20:13:00.16848Z",
     "iopub.status.idle": "2023-11-23T20:13:00.180282Z",
     "shell.execute_reply": "2023-11-23T20:13:00.179349Z",
     "shell.execute_reply.started": "2023-11-23T20:13:00.168748Z"
    },
    "papermill": {
     "duration": null,
     "end_time": null,
     "exception": null,
     "start_time": null,
     "status": "pending"
    },
    "tags": []
   },
   "outputs": [],
   "source": [
    "del heights, widths, unique_dims, unique_channels, data, with_mask_images, without_mask_images"
   ]
  },
  {
   "cell_type": "code",
   "execution_count": null,
   "id": "bc176a0e",
   "metadata": {
    "execution": {
     "iopub.execute_input": "2023-11-23T20:13:00.181714Z",
     "iopub.status.busy": "2023-11-23T20:13:00.181449Z",
     "iopub.status.idle": "2023-11-23T20:13:00.199807Z",
     "shell.execute_reply": "2023-11-23T20:13:00.19896Z",
     "shell.execute_reply.started": "2023-11-23T20:13:00.18169Z"
    },
    "papermill": {
     "duration": null,
     "end_time": null,
     "exception": null,
     "start_time": null,
     "status": "pending"
    },
    "tags": []
   },
   "outputs": [],
   "source": [
    "train_df, val_df = train_test_split(df, test_size=0.2, stratify=df['label'], random_state=42)\n",
    "\n",
    "print(\"Training data shape:\", train_df.shape)\n",
    "print(\"Validation data shape:\", val_df.shape)\n",
    "\n",
    "del df"
   ]
  },
  {
   "cell_type": "code",
   "execution_count": null,
   "id": "899d5600",
   "metadata": {
    "execution": {
     "iopub.execute_input": "2023-11-23T20:13:00.201754Z",
     "iopub.status.busy": "2023-11-23T20:13:00.201005Z",
     "iopub.status.idle": "2023-11-23T20:13:00.21458Z",
     "shell.execute_reply": "2023-11-23T20:13:00.213751Z",
     "shell.execute_reply.started": "2023-11-23T20:13:00.201718Z"
    },
    "papermill": {
     "duration": null,
     "end_time": null,
     "exception": null,
     "start_time": null,
     "status": "pending"
    },
    "tags": []
   },
   "outputs": [],
   "source": [
    "train_df.head()"
   ]
  },
  {
   "cell_type": "code",
   "execution_count": null,
   "id": "0e52fa5f",
   "metadata": {
    "execution": {
     "iopub.execute_input": "2023-11-23T20:13:00.216266Z",
     "iopub.status.busy": "2023-11-23T20:13:00.215983Z",
     "iopub.status.idle": "2023-11-23T20:13:00.228504Z",
     "shell.execute_reply": "2023-11-23T20:13:00.227593Z",
     "shell.execute_reply.started": "2023-11-23T20:13:00.216242Z"
    },
    "papermill": {
     "duration": null,
     "end_time": null,
     "exception": null,
     "start_time": null,
     "status": "pending"
    },
    "tags": []
   },
   "outputs": [],
   "source": [
    "def create_data_generators(train_df, val_df, filepath_column='filepath', label_column='label', \n",
    "                           preprocessing_function=None, batch_size=32, image_dimensions=(299, 299)):\n",
    "   \n",
    "\n",
    "   train_datagen = ImageDataGenerator(\n",
    "        rotation_range=15,                             # Randomly rotate the images by up to 15 degrees\n",
    "        width_shift_range=0.15,                        # Randomly shift images horizontally by up to 15% of the width\n",
    "        height_shift_range=0.15,                       # Randomly shift images vertically by up to 15% of the height\n",
    "        zoom_range=0.15,                               # Randomly zoom in or out by up to 15%\n",
    "        horizontal_flip=True,                          # Randomly flip images horizontally\n",
    "        vertical_flip=False,                           # Do not flip images vertically as it doesn't make sense in our context\n",
    "        shear_range=0.02,                              # Apply slight shear transformations\n",
    "        preprocessing_function=preprocessing_function  # Apply preprocessing function if provided\n",
    "    )\n",
    "\n",
    "    val_datagen = ImageDataGenerator(\n",
    "        preprocessing_function=preprocessing_function\n",
    "    )\n",
    "\n",
    "    train_generator = train_datagen.flow_from_dataframe(\n",
    "        dataframe=train_df,                 # DataFrame containing training data\n",
    "        x_col=filepath_column,              # Column with paths to image files\n",
    "        y_col=label_column,                 # Column with image labels\n",
    "        target_size=image_dimensions,       # Resize all images to size of 224x224 \n",
    "        batch_size=batch_size,              # Number of images per batch\n",
    "        class_mode='binary',                # Specify binary classification task\n",
    "        seed=42,                            # Seed for random number generator to ensure reproducibility\n",
    "        shuffle=True                        # Shuffle the data to ensure the model gets a randomized batch during training\n",
    "    )\n",
    "\n",
    "    val_generator = val_datagen.flow_from_dataframe(\n",
    "        dataframe=val_df,\n",
    "        x_col=filepath_column,\n",
    "        y_col=label_column,\n",
    "        target_size=image_dimensions,\n",
    "        batch_size=batch_size,\n",
    "        class_mode='binary',\n",
    "        seed=42,\n",
    "        shuffle=False\n",
    "    )\n",
    "    \n",
    "    return train_generator, val_generator"
   ]
  },
  {
   "cell_type": "code",
   "execution_count": null,
   "id": "28111c9a",
   "metadata": {
    "execution": {
     "iopub.execute_input": "2023-11-23T20:13:00.232661Z",
     "iopub.status.busy": "2023-11-23T20:13:00.232165Z",
     "iopub.status.idle": "2023-11-23T20:13:04.064607Z",
     "shell.execute_reply": "2023-11-23T20:13:04.063759Z",
     "shell.execute_reply.started": "2023-11-23T20:13:00.232632Z"
    },
    "papermill": {
     "duration": null,
     "end_time": null,
     "exception": null,
     "start_time": null,
     "status": "pending"
    },
    "tags": []
   },
   "outputs": [],
   "source": [
    "inceptionv3_base = InceptionV3(weights='imagenet', include_top=False, input_shape=(299, 299, 3))"
   ]
  },
  {
   "cell_type": "code",
   "execution_count": null,
   "id": "dfa32cd3",
   "metadata": {
    "execution": {
     "iopub.execute_input": "2023-11-23T20:13:04.06613Z",
     "iopub.status.busy": "2023-11-23T20:13:04.065779Z",
     "iopub.status.idle": "2023-11-23T20:13:04.872161Z",
     "shell.execute_reply": "2023-11-23T20:13:04.871283Z",
     "shell.execute_reply.started": "2023-11-23T20:13:04.066102Z"
    },
    "papermill": {
     "duration": null,
     "end_time": null,
     "exception": null,
     "start_time": null,
     "status": "pending"
    },
    "tags": []
   },
   "outputs": [],
   "source": [
    "x = inceptionv3_base.output\n",
    "x = GlobalAveragePooling2D()(x) \n",
    "x = Dense(1024, activation='relu')(x)  \n",
    "x = Dropout(0.5)(x)  \n",
    "predictions = Dense(1, activation='sigmoid')(x)\n",
    "\n",
    "inceptionv3_model = Model(inputs=inceptionv3_base.input, outputs=predictions)\n",
    "\n",
    "inceptionv3_model.compile(optimizer=Adam(learning_rate=0.0001), loss='binary_crossentropy', metrics=['accuracy'])\n",
    "inceptionv3_model.summary()"
   ]
  },
  {
   "cell_type": "code",
   "execution_count": null,
   "id": "89387a46",
   "metadata": {
    "execution": {
     "iopub.execute_input": "2023-11-23T20:13:04.892854Z",
     "iopub.status.busy": "2023-11-23T20:13:04.892523Z",
     "iopub.status.idle": "2023-11-23T20:13:09.526706Z",
     "shell.execute_reply": "2023-11-23T20:13:09.52565Z",
     "shell.execute_reply.started": "2023-11-23T20:13:04.892804Z"
    },
    "papermill": {
     "duration": null,
     "end_time": null,
     "exception": null,
     "start_time": null,
     "status": "pending"
    },
    "scrolled": true,
    "tags": []
   },
   "outputs": [],
   "source": [
    "plot_model(inceptionv3_model, show_shapes=True, show_layer_names=False, dpi=100)"
   ]
  },
  {
   "cell_type": "code",
   "execution_count": null,
   "id": "d9130ee9",
   "metadata": {
    "execution": {
     "iopub.execute_input": "2023-11-23T20:13:09.528234Z",
     "iopub.status.busy": "2023-11-23T20:13:09.527915Z",
     "iopub.status.idle": "2023-11-23T20:22:42.039972Z",
     "shell.execute_reply": "2023-11-23T20:22:42.039146Z",
     "shell.execute_reply.started": "2023-11-23T20:13:09.528205Z"
    },
    "papermill": {
     "duration": null,
     "end_time": null,
     "exception": null,
     "start_time": null,
     "status": "pending"
    },
    "scrolled": true,
    "tags": []
   },
   "outputs": [],
   "source": [
    "num_epochs = 10\n",
    "\n",
    "train_generator, val_generator = create_data_generators(train_df, \n",
    "                                                        val_df, \n",
    "                                                        preprocessing_function=inceptionv3_preprocess_input, \n",
    "                                                        batch_size=32, \n",
    "                                                        image_dimensions=(299, 299))\n",
    "\n",
    "reduce_lr = ReduceLROnPlateau(monitor='val_loss', factor=0.5, patience=2, min_lr=0.00001)\n",
    "early_stopping = EarlyStopping(monitor='val_loss', mode='min', patience=3, restore_best_weights=True, verbose=1)\n",
    "\n",
    "history = inceptionv3_model.fit(\n",
    "    train_generator,\n",
    "    steps_per_epoch=len(train_generator),\n",
    "    epochs=num_epochs,\n",
    "    validation_data=val_generator,\n",
    "    validation_steps=len(val_generator),\n",
    "    callbacks=[reduce_lr, early_stopping]\n",
    ")"
   ]
  },
  {
   "cell_type": "code",
   "execution_count": null,
   "id": "5bef9c54",
   "metadata": {
    "execution": {
     "iopub.execute_input": "2023-11-23T20:22:42.041273Z",
     "iopub.status.busy": "2023-11-23T20:22:42.041004Z",
     "iopub.status.idle": "2023-11-23T20:22:42.853653Z",
     "shell.execute_reply": "2023-11-23T20:22:42.852771Z",
     "shell.execute_reply.started": "2023-11-23T20:22:42.041248Z"
    },
    "papermill": {
     "duration": null,
     "end_time": null,
     "exception": null,
     "start_time": null,
     "status": "pending"
    },
    "tags": []
   },
   "outputs": [],
   "source": [
    "hist = pd.DataFrame(history.history)\n",
    "plt.figure(figsize=(15,6))\n",
    "\n",
    "plt.subplot(1, 2, 1)\n",
    "sns.lineplot(x=hist.index+1, y=hist['loss'], color='#006766', label='Train Loss', marker='o', linestyle='--')\n",
    "sns.lineplot(x=hist.index+1, y=hist['val_loss'], color='orangered', label='Validation Loss', marker='o', linestyle='--')\n",
    "plt.title('Loss Evolution')\n",
    "plt.xlabel('Epochs')\n",
    "plt.ylabel('Loss')\n",
    "plt.xticks(range(0,num_epochs+1))\n",
    "\n",
    "plt.subplot(1, 2, 2)\n",
    "sns.lineplot(x=hist.index+1, y=hist['accuracy'], color='#006766', label='Train Accuracy', marker='o', linestyle='--')\n",
    "sns.lineplot(x=hist.index+1, y=hist['val_accuracy'], color='orangered', label='Validation Accuracy', marker='o', linestyle='--')\n",
    "plt.title('Accuracy Evolution')\n",
    "plt.xlabel('Epochs')\n",
    "plt.ylabel('Accuracy')\n",
    "plt.xticks(range(0,num_epochs+1))\n",
    "\n",
    "plt.show()"
   ]
  },
  {
   "cell_type": "code",
   "execution_count": null,
   "id": "3ec522b4",
   "metadata": {
    "execution": {
     "iopub.execute_input": "2023-11-23T20:22:42.855216Z",
     "iopub.status.busy": "2023-11-23T20:22:42.854915Z",
     "iopub.status.idle": "2023-11-23T20:22:47.270781Z",
     "shell.execute_reply": "2023-11-23T20:22:47.269727Z",
     "shell.execute_reply.started": "2023-11-23T20:22:42.855186Z"
    },
    "papermill": {
     "duration": null,
     "end_time": null,
     "exception": null,
     "start_time": null,
     "status": "pending"
    },
    "tags": []
   },
   "outputs": [],
   "source": [
    "results = inceptionv3_model.evaluate(val_generator, steps=len(val_generator))\n",
    "\n",
    "accuracy = results[1]\n",
    "\n",
    "print(f'Validation Accuracy: %{round(100*accuracy,2)}')"
   ]
  },
  {
   "cell_type": "code",
   "execution_count": null,
   "id": "3dfb46fb",
   "metadata": {
    "execution": {
     "iopub.execute_input": "2023-11-23T20:22:47.272322Z",
     "iopub.status.busy": "2023-11-23T20:22:47.272024Z",
     "iopub.status.idle": "2023-11-23T20:22:47.278165Z",
     "shell.execute_reply": "2023-11-23T20:22:47.277297Z",
     "shell.execute_reply.started": "2023-11-23T20:22:47.272295Z"
    },
    "papermill": {
     "duration": null,
     "end_time": null,
     "exception": null,
     "start_time": null,
     "status": "pending"
    },
    "tags": []
   },
   "outputs": [],
   "source": [
    "def analyze_mask_in_image(image, model):\n",
    "\n",
    "    resized_img = cv2.resize(image, (299, 299))\n",
    "    \n",
    "    processed_img = inceptionv3_preprocess_input(cv2.cvtColor(resized_img, cv2.COLOR_BGR2RGB))\n",
    "\n",
    "    prediction = model.predict(np.expand_dims(processed_img, axis=0))\n",
    "    \n",
    "    return prediction[0][0]"
   ]
  },
  {
   "cell_type": "code",
   "execution_count": null,
   "id": "e42cf30c",
   "metadata": {
    "execution": {
     "iopub.execute_input": "2023-11-23T20:22:47.279642Z",
     "iopub.status.busy": "2023-11-23T20:22:47.279359Z",
     "iopub.status.idle": "2023-11-23T20:22:47.295945Z",
     "shell.execute_reply": "2023-11-23T20:22:47.295133Z",
     "shell.execute_reply.started": "2023-11-23T20:22:47.279616Z"
    },
    "papermill": {
     "duration": null,
     "end_time": null,
     "exception": null,
     "start_time": null,
     "status": "pending"
    },
    "tags": []
   },
   "outputs": [],
   "source": [
    "def annotate_image_with_attributes(image, model, detector_backend='retinaface'):\n",
    "    analysis = DeepFace.analyze(img_path=image, actions=['emotion', 'age', 'gender', 'race'], detector_backend=detector_backend)\n",
    "\n",
    "    for face in analysis:\n",
    "        x, y, w, h = face['region']['x'], face['region']['y'], face['region']['w'], face['region']['h']\n",
    "        cv2.rectangle(image, (x, y), (x + w, y + h), (0, 255, 0), 2)\n",
    "        \n",
    "        face_img = image[y:y+h, x:x+w]\n",
    "        \n",
    "        mask_presence = analyze_mask_in_image(face_img, model)\n",
    "\n",
    "        if mask_presence < 0.5:  # Threshold might need adjustment\n",
    "            text_line1 = \"Masked\"\n",
    "        else:\n",
    "            text_line1 = f\"{face['dominant_race'].capitalize()}, {face['dominant_gender']}, Age: {face['age']}\"\n",
    "            text_line2 = f\"Emotion: {face['dominant_emotion']}\"\n",
    "            cv2.putText(image, text_line2, (x, y + h + 40), cv2.FONT_HERSHEY_SIMPLEX, 0.7, (0, 255, 0), 2, cv2.LINE_AA)\n",
    "\n",
    "        cv2.putText(image, text_line1, (x, y + h + 20), cv2.FONT_HERSHEY_SIMPLEX, 0.7, (0, 255, 0), 2, cv2.LINE_AA)\n",
    "    return image"
   ]
  }
 ],
 "metadata": {
  "kaggle": {
   "accelerator": "gpu",
   "dataSources": [
    {
     "datasetId": 3989422,
     "sourceId": 6946418,
     "sourceType": "datasetVersion"
    },
    {
     "datasetId": 4037464,
     "sourceId": 7021168,
     "sourceType": "datasetVersion"
    }
   ],
   "dockerImageVersionId": 30587,
   "isGpuEnabled": true,
   "isInternetEnabled": false,
   "language": "python",
   "sourceType": "notebook"
  },
  "kernelspec": {
   "display_name": "Python 3",
   "language": "python",
   "name": "python3"
  },
  "language_info": {
   "codemirror_mode": {
    "name": "ipython",
    "version": 3
   },
   "file_extension": ".py",
   "mimetype": "text/x-python",
   "name": "python",
   "nbconvert_exporter": "python",
   "pygments_lexer": "ipython3",
   "version": "3.10.12"
  },
  "papermill": {
   "default_parameters": {},
   "duration": 168.921053,
   "end_time": "2024-09-17T22:13:31.472104",
   "environment_variables": {},
   "exception": true,
   "input_path": "__notebook__.ipynb",
   "output_path": "__notebook__.ipynb",
   "parameters": {},
   "start_time": "2024-09-17T22:10:42.551051",
   "version": "2.4.0"
  }
 },
 "nbformat": 4,
 "nbformat_minor": 5
}
